{
  "nbformat": 4,
  "nbformat_minor": 0,
  "metadata": {
    "colab": {
      "provenance": [],
      "gpuType": "T4",
      "authorship_tag": "ABX9TyOEiOMkfZ1hb7bZCX/M0Uzq",
      "include_colab_link": true
    },
    "kernelspec": {
      "name": "python3",
      "display_name": "Python 3"
    },
    "language_info": {
      "name": "python"
    },
    "accelerator": "GPU"
  },
  "cells": [
    {
      "cell_type": "markdown",
      "metadata": {
        "id": "view-in-github",
        "colab_type": "text"
      },
      "source": [
        "<a href=\"https://colab.research.google.com/github/Jaat2727/Torrent-Downloader-on-Collab-To-Google-Drive/blob/main/TORRENT_DOWNLOADER.ipynb\" target=\"_parent\"><img src=\"https://colab.research.google.com/assets/colab-badge.svg\" alt=\"Open In Colab\"/></a>"
      ]
    },
    {
      "cell_type": "code",
      "execution_count": null,
      "metadata": {
        "id": "yG-U8puk2I_Y"
      },
      "outputs": [],
      "source": [
        "!pip install torrentp\n",
        "!pip install torrentp nest_asyncio"
      ]
    },
    {
      "cell_type": "code",
      "source": [
        "from google.colab import drive\n",
        "drive.mount('/content/drive')"
      ],
      "metadata": {
        "id": "Gqm8EGiQDTj9"
      },
      "execution_count": null,
      "outputs": []
    },
    {
      "cell_type": "code",
      "source": [
        "import asyncio\n",
        "import nest_asyncio\n",
        "from torrentp import TorrentDownloader\n",
        "import time\n",
        "import os\n",
        "import threading\n",
        "\n",
        "# Enable nested asyncio (REQUIRED for Colab)\n",
        "nest_asyncio.apply()\n",
        "\n",
        "# New Magnet Link (Spider-Man: Far From Home - 2160p BluRay)\n",
        "MAGNET_LINK = \"\"\n",
        "DOWNLOAD_PATH = \"/content/drive/MyDrive/MyDownloads\"  # Replace with your desired path\n",
        "\n",
        "# --- Keep-Alive (Prevent Timeout) ---\n",
        "def keep_alive():\n",
        "    \"\"\"\n",
        "    Simulates user interaction to prevent Colab from timing out.\n",
        "    Runs in a separate thread.\n",
        "    \"\"\"\n",
        "    while True:\n",
        "        print(\"Keep-alive: Simulating activity...\")\n",
        "        time.sleep(60)  # Simulate activity every 60 seconds\n",
        "\n",
        "# Start the keep-alive thread\n",
        "keep_alive_thread = threading.Thread(target=keep_alive, daemon=True)\n",
        "keep_alive_thread.start()\n",
        "# --- End Keep-Alive ---\n",
        "\n",
        "async def monitor_download(torrent_file, interval=5):\n",
        "    \"\"\"Monitors download progress and prints statistics.\"\"\"\n",
        "    while not torrent_file.is_completed():\n",
        "        stats = torrent_file.get_stats()\n",
        "        total_size_gb = stats.total_size / (1024**3)\n",
        "        downloaded_gb = stats.downloaded / (1024**3)\n",
        "        progress = (stats.downloaded / stats.total_size) * 100 if stats.total_size else 0\n",
        "        download_speed_mbps = (stats.download_speed / (1024**2)) * 8\n",
        "        upload_speed_mbps = (stats.upload_speed / (1024**2)) * 8\n",
        "        num_peers = stats.num_peers\n",
        "\n",
        "        print(\n",
        "            f\"Progress: {progress:.2f}% | \"\n",
        "            f\"Downloaded: {downloaded_gb:.2f} GB / {total_size_gb:.2f} GB | \"\n",
        "            f\"Down Speed: {download_speed_mbps:.2f} Mbps | \"\n",
        "            f\"Up Speed: {upload_speed_mbps:.2f} Mbps | \"\n",
        "            f\"Peers: {num_peers}\"\n",
        "        )\n",
        "        await asyncio.sleep(interval)\n",
        "\n",
        "    print(\"Download Complete!\")\n",
        "    print(torrent_file.get_downloaded_files())\n",
        "\n",
        "async def main():\n",
        "    \"\"\"Downloads a torrent from a magnet link, with monitoring and Colab-specific handling.\"\"\"\n",
        "    torrent_file = None\n",
        "    try:\n",
        "        torrent_file = TorrentDownloader(MAGNET_LINK, DOWNLOAD_PATH)\n",
        "        print(\"Starting download...\")\n",
        "\n",
        "        # Run download and monitoring concurrently\n",
        "        download_task = asyncio.create_task(torrent_file.start_download())\n",
        "        monitor_task = asyncio.create_task(monitor_download(torrent_file))\n",
        "\n",
        "        # Wait for download to complete (or be interrupted)\n",
        "        await download_task\n",
        "\n",
        "        # Cancel the monitoring task\n",
        "        monitor_task.cancel()\n",
        "        try:\n",
        "            await monitor_task  # Ensure cancellation is complete\n",
        "        except asyncio.CancelledError:\n",
        "            pass\n",
        "\n",
        "    except Exception as e:\n",
        "        print(f\"An error occurred: {e}\")\n",
        "    finally:\n",
        "        if torrent_file:\n",
        "            print(\"Stopping download...\")\n",
        "            torrent_file.stop_download()\n",
        "\n",
        "if __name__ == \"__main__\":\n",
        "    loop = asyncio.get_event_loop()\n",
        "    loop.run_until_complete(main())"
      ],
      "metadata": {
        "id": "hrwLZ8wf48_n"
      },
      "execution_count": null,
      "outputs": []
    }
  ]
}