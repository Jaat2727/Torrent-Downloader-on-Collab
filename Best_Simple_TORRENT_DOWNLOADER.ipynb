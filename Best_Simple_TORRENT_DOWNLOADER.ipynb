{
  "nbformat": 4,
  "nbformat_minor": 0,
  "metadata": {
    "colab": {
      "provenance": [],
      "gpuType": "T4",
      "collapsed_sections": [
        "gQ9sqxi1Tfug"
      ],
      "authorship_tag": "ABX9TyPM7unQQMqO81AZXZ0c96kK",
      "include_colab_link": true
    },
    "kernelspec": {
      "name": "python3",
      "display_name": "Python 3"
    },
    "language_info": {
      "name": "python"
    },
    "accelerator": "GPU"
  },
  "cells": [
    {
      "cell_type": "markdown",
      "metadata": {
        "id": "view-in-github",
        "colab_type": "text"
      },
      "source": [
        "<a href=\"https://colab.research.google.com/github/Jaat2727/Torrent-Downloader-on-Collab-To-Google-Drive/blob/main/Best_Simple_TORRENT_DOWNLOADER.ipynb\" target=\"_parent\"><img src=\"https://colab.research.google.com/assets/colab-badge.svg\" alt=\"Open In Colab\"/></a>"
      ]
    },
    {
      "cell_type": "code",
      "source": [
        "#@title 📂 Install Libraries & Mount Google Drive\n",
        "#@markdown Run this cell to:\n",
        "#@markdown 1. Install necessary Python libraries (**torrentp**, **nest_asyncio**).\n",
        "#@markdown 2. Connect and mount your Google Drive to `/content/drive`.\n",
        "#@markdown You might be asked to authorize Drive access.\n",
        "\n",
        "import os\n",
        "import sys\n",
        "import subprocess\n",
        "import time\n",
        "\n",
        "print(\"--- Starting Setup ---\", flush=True)\n",
        "setup_ok = True\n",
        "\n",
        "# 1. Install Libraries (torrentp and nest_asyncio)\n",
        "print(\"\\n⚙️ Installing/checking required libraries (torrentp, nest_asyncio)...\", flush=True)\n",
        "try:\n",
        "    # Use -q for quiet, capture_output to check errors if needed\n",
        "    install_process = subprocess.run(\n",
        "        [sys.executable, '-m', 'pip', 'install', 'torrentp', 'nest_asyncio', '-q'],\n",
        "        check=True,\n",
        "        capture_output=True,\n",
        "        text=True\n",
        "    )\n",
        "    # Check if installation actually happened or if they were already there\n",
        "    # This is a basic check; pip's output could be parsed more thoroughly if needed.\n",
        "    # if install_process.stdout:\n",
        "    #      print(f\"   Pip output:\\n{install_process.stdout[:500]}...\") # Show some output if needed\n",
        "    print(\"✅ Libraries installed or already present.\")\n",
        "except subprocess.CalledProcessError as e:\n",
        "    print(f\"❌ ERROR installing libraries: Pip command failed.\", flush=True)\n",
        "    print(f\"   Stderr: {e.stderr}\")\n",
        "    setup_ok = False\n",
        "except Exception as e:\n",
        "    print(f\"❌ ERROR during library installation: {e}\", flush=True)\n",
        "    setup_ok = False\n",
        "\n",
        "# 2. Mount Google Drive (only if library install was ok)\n",
        "if setup_ok:\n",
        "    print(\"\\n⚙️ Mounting Google Drive...\", flush=True)\n",
        "    try:\n",
        "        from google.colab import drive\n",
        "        if not os.path.exists('/content/drive/MyDrive'):\n",
        "            drive.mount('/content/drive')\n",
        "            # Add a small delay for the mount point to become fully available\n",
        "            time.sleep(2)\n",
        "            if os.path.exists('/content/drive/MyDrive'):\n",
        "                 print(\"✅ Google Drive mounted successfully.\")\n",
        "            else:\n",
        "                 print(\"⚠️ Mount attempt finished, but '/content/drive/MyDrive' not found. Check authorization/permissions.\", flush=True)\n",
        "                 # Depending on strictness, could set setup_ok = False here\n",
        "        else:\n",
        "            print(\"✅ Google Drive already mounted.\")\n",
        "    except Exception as e:\n",
        "        print(f\"❌ An error occurred during mounting: {e}\", flush=True)\n",
        "        setup_ok = False\n",
        "else:\n",
        "    print(\"\\n⚠️ Skipping Google Drive mount due to library installation failure.\", flush=True)\n",
        "\n",
        "# 3. Final Status\n",
        "print(\"\\n--- Setup Finished ---\", flush=True)\n",
        "if setup_ok:\n",
        "    print(\"✅ Setup complete. You can now run the Torrent Downloader cell.\", flush=True)\n",
        "else:\n",
        "    print(\"❌ Setup failed. Please review the errors above.\", flush=True)"
      ],
      "metadata": {
        "cellView": "form",
        "id": "KslDa8GcTP2g"
      },
      "execution_count": null,
      "outputs": []
    },
    {
      "cell_type": "markdown",
      "source": [
        "."
      ],
      "metadata": {
        "id": "qK5-7ZlOYiKa"
      }
    },
    {
      "cell_type": "markdown",
      "source": [
        "."
      ],
      "metadata": {
        "id": "TdZynos-YHGl"
      }
    },
    {
      "cell_type": "markdown",
      "source": [
        "."
      ],
      "metadata": {
        "id": "-urt6KwgYHY1"
      }
    },
    {
      "cell_type": "markdown",
      "source": [
        "."
      ],
      "metadata": {
        "id": "qiz4BhLKYHhK"
      }
    },
    {
      "cell_type": "code",
      "source": [
        "#@title 🧲 Google Drive Torrent Downloader\n",
        "#@markdown Enter the magnet link and download path below.\n",
        "#@markdown ---\n",
        "#@markdown **Enter Magnet Link:**\n",
        "MAGNET_LINK = \"your  magnet_link  place it here\" #@param {type:\"string\"}\n",
        "\n",
        "#@markdown **Settings:**\n",
        "DOWNLOAD_PATH = \"/content/drive/MyDrive/MyDownloads\" #@param {type:\"string\"}\n",
        "#@markdown *(Make sure Google Drive is mounted at /content/drive) and if you dont know what to add in path just leave as it is*\n",
        "#@markdown ---\n",
        "\n",
        "import asyncio\n",
        "import nest_asyncio\n",
        "from torrentp import TorrentDownloader\n",
        "import time\n",
        "import os\n",
        "import threading\n",
        "import traceback # Added for potential error details\n",
        "\n",
        "# Enable nested asyncio (REQUIRED for Colab)\n",
        "try:\n",
        "    nest_asyncio.apply()\n",
        "except RuntimeError: # Already applied\n",
        "    pass\n",
        "\n",
        "# --- Keep-Alive (Prevent Timeout) ---\n",
        "# Note: Ensure only one keep-alive thread runs if executing multiple cells\n",
        "keep_alive_active_orig = threading.Event()\n",
        "def keep_alive_orig():\n",
        "    while not keep_alive_active_orig.wait(60):\n",
        "        print(\"Keep-alive (Original): Simulating activity...\", flush=True)\n",
        "    print(\"Keep-alive (Original): Thread stopping.\")\n",
        "\n",
        "keep_alive_thread_orig = threading.Thread(target=keep_alive_orig, name=\"ColabKeepAliveOrig\", daemon=True)\n",
        "if not any(t.name == \"ColabKeepAliveOrig\" for t in threading.enumerate()):\n",
        "     keep_alive_thread_orig.start()\n",
        "# --- End Keep-Alive ---\n",
        "\n",
        "async def monitor_download(torrent_file, interval=5):\n",
        "    \"\"\"Monitors download progress and prints statistics.\"\"\"\n",
        "    # !!! WARNING: torrent_file.is_completed() likely does not exist and will error !!!\n",
        "    while not torrent_file.is_completed(): # <--- LIKELY ERROR SOURCE\n",
        "        try:\n",
        "            stats = torrent_file.get_stats()\n",
        "            total_size_gb = stats.total_size / (1024**3) if stats.total_size else 0\n",
        "            downloaded_gb = stats.downloaded / (1024**3) if stats.downloaded else 0\n",
        "            progress = (stats.downloaded / stats.total_size) * 100 if stats.total_size else 0\n",
        "            download_speed_mbps = (stats.download_speed / (1024**2)) * 8 if stats.download_speed else 0\n",
        "            upload_speed_mbps = (stats.upload_speed / (1024**2)) * 8 if stats.upload_speed else 0\n",
        "            num_peers = stats.num_peers\n",
        "\n",
        "            print(\n",
        "                f\"Progress: {progress:.2f}% | \"\n",
        "                f\"Downloaded: {downloaded_gb:.2f} GB / {total_size_gb:.2f} GB | \"\n",
        "                f\"Down Speed: {download_speed_mbps:.2f} Mbps | \"\n",
        "                f\"Up Speed: {upload_speed_mbps:.2f} Mbps | \"\n",
        "                f\"Peers: {num_peers}\",\n",
        "                flush=True\n",
        "            )\n",
        "            await asyncio.sleep(interval)\n",
        "        except asyncio.CancelledError:\n",
        "             print(\"Monitor cancelled.\", flush=True)\n",
        "             break # Exit loop if cancelled\n",
        "        except AttributeError as ae:\n",
        "             # Catch the likely error and stop monitoring\n",
        "             print(f\"\\n❌ MONITORING ERROR: {ae}\", flush=True)\n",
        "             print(\"   Stopping monitoring due to likely invalid method call.\", flush=True)\n",
        "             break\n",
        "        except Exception as e:\n",
        "             print(f\"\\nError during monitoring: {e}\", flush=True)\n",
        "             await asyncio.sleep(interval) # Wait before retrying stats\n",
        "\n",
        "\n",
        "    # This part will likely not be reached if is_completed() fails\n",
        "    print(\"Monitoring loop finished.\", flush=True)\n",
        "    # !!! WARNING: torrent_file.get_downloaded_files() likely does not exist and will error !!!\n",
        "    # print(torrent_file.get_downloaded_files()) # <--- LIKELY ERROR SOURCE\n",
        "\n",
        "\n",
        "async def main(magnet_input, download_path_input):\n",
        "    \"\"\"Downloads a torrent from a magnet link, with monitoring and Colab-specific handling.\"\"\"\n",
        "    torrent_file = None\n",
        "    monitor_task = None\n",
        "    download_task = None\n",
        "    try:\n",
        "        # --- Input Validation ---\n",
        "        if not magnet_input or not magnet_input.startswith(\"magnet:?\"):\n",
        "            print(\"❌ Invalid or empty Magnet Link provided.\"); return\n",
        "        if not download_path_input:\n",
        "            print(\"❌ Download path is empty.\"); return\n",
        "        if not os.path.exists('/content/drive/MyDrive'):\n",
        "            print(\"❌ Google Drive not mounted at /content/drive/MyDrive.\"); return\n",
        "        try: os.makedirs(download_path_input, exist_ok=True)\n",
        "        except OSError as e: print(f\"❌ ERROR: Cannot access base directory '{download_path_input}': {e}\"); return\n",
        "\n",
        "        # --- Start Process ---\n",
        "        print(f\"Initializing torrent: {magnet_input[:60]}...\", flush=True)\n",
        "        torrent_file = TorrentDownloader(magnet_input, download_path_input)\n",
        "        print(f\"Starting download to {download_path_input}...\", flush=True)\n",
        "\n",
        "        # Run download and monitoring concurrently\n",
        "        download_task = asyncio.create_task(torrent_file.start_download(), name=\"OriginalDownload\")\n",
        "        # Pass display name, fallback to 'Unknown'\n",
        "        display_name = getattr(torrent_file, 'name', 'Unknown Torrent') # Try to get name if available\n",
        "        monitor_task = asyncio.create_task(monitor_download(torrent_file, display_name), name=\"OriginalMonitor\")\n",
        "\n",
        "        # Wait for download task to complete (or be interrupted/error)\n",
        "        print(\"Waiting for download task to complete...\", flush=True)\n",
        "        await download_task\n",
        "        print(\"Download task finished.\", flush=True)\n",
        "\n",
        "        # Download finished successfully (if await download_task didn't raise error)\n",
        "        # Now explicitly handle monitor cancellation as in original code\n",
        "        if monitor_task and not monitor_task.done():\n",
        "            print(\"Cancelling the monitoring task...\", flush=True)\n",
        "            monitor_task.cancel()\n",
        "            try:\n",
        "                await monitor_task  # Ensure cancellation is complete\n",
        "            except asyncio.CancelledError:\n",
        "                print(\"Monitoring task successfully cancelled.\", flush=True)\n",
        "            except Exception as e_cancel:\n",
        "                 print(f\"Error awaiting cancelled monitor task: {e_cancel}\", flush=True)\n",
        "\n",
        "    except Exception as e:\n",
        "        print(f\"\\n❌ An error occurred in main: {type(e).__name__}: {e}\", flush=True)\n",
        "        traceback.print_exc() # Print detailed traceback\n",
        "        # Cancel tasks if they are running on error\n",
        "        if monitor_task and not monitor_task.done(): monitor_task.cancel()\n",
        "        if download_task and not download_task.done(): download_task.cancel()\n",
        "        # Await cancellations\n",
        "        all_tasks_err = [t for t in [download_task, monitor_task] if t]\n",
        "        if all_tasks_err: await asyncio.gather(*all_tasks_err, return_exceptions=True)\n",
        "\n",
        "    finally:\n",
        "        print(\"\\n--- Main Coroutine Finally Block ---\", flush=True)\n",
        "        if torrent_file:\n",
        "            print(\"   Stopping download (calling stop_download)...\", flush=True)\n",
        "            try:\n",
        "                torrent_file.stop_download()\n",
        "                print(\"   stop_download called.\")\n",
        "            except Exception as e_stop:\n",
        "                 print(f\"   Error calling stop_download: {e_stop}\", flush=True)\n",
        "        # Signal keep-alive thread to stop\n",
        "        print(\"   Signalling keep-alive thread to stop.\", flush=True)\n",
        "        keep_alive_active_orig.set()\n",
        "        print(\"------------------------------------\", flush=True)\n",
        "\n",
        "# --- Execution Block ---\n",
        "# This runs when the cell is executed after filling the form\n",
        "if not MAGNET_LINK:\n",
        "    print(\"⚠️ Please enter a Magnet Link in the form above.\", flush=True)\n",
        "elif not os.path.exists('/content/drive/MyDrive'):\n",
        "     print(\"❌ Google Drive does not appear to be mounted. Please run the mounting cell first.\", flush=True)\n",
        "else:\n",
        "    print(\"🚀 Starting Original Download Process...\", flush=True)\n",
        "    loop = None\n",
        "    try:\n",
        "        loop = asyncio.get_event_loop()\n",
        "        print(\"   Running asyncio loop until main coroutine completes.\", flush=True)\n",
        "        # Call the main async function with values from the form\n",
        "        loop.run_until_complete(main(MAGNET_LINK, DOWNLOAD_PATH))\n",
        "        print(\"🏁 Asyncio main coroutine finished.\", flush=True)\n",
        "    except Exception as loop_err:\n",
        "        print(f\"\\n❌❌❌ Unexpected error running the asyncio loop: {loop_err}\", flush=True)\n",
        "        traceback.print_exc()\n",
        "    finally:\n",
        "        if not keep_alive_active_orig.is_set(): # Ensure stop signal even on loop error\n",
        "            keep_alive_active_orig.set()\n",
        "\n",
        "    print(\"ℹ️ Cell execution logic complete.\", flush=True)\n",
        "\n",
        "# --- Final Cell Message ---\n",
        "if not os.path.exists('/content/drive/MyDrive') and MAGNET_LINK: print(\"\\n--- End of Cell Execution (Drive Not Mounted) ---\")\n",
        "elif not MAGNET_LINK: print(\"\\n--- End of Cell Execution (No Magnet Link Provided) ---\")\n",
        "else: print(\"\\n--- End of Cell Execution ---\")"
      ],
      "metadata": {
        "cellView": "form",
        "id": "gQ9sqxi1Tfug"
      },
      "execution_count": null,
      "outputs": []
    },
    {
      "cell_type": "markdown",
      "source": [
        "."
      ],
      "metadata": {
        "id": "76xQL4X5YgZo"
      }
    },
    {
      "cell_type": "markdown",
      "source": [
        "  ."
      ],
      "metadata": {
        "id": "ZHgZKspCYAXW"
      }
    },
    {
      "cell_type": "markdown",
      "source": [
        "."
      ],
      "metadata": {
        "id": "3O4MckCgYAke"
      }
    },
    {
      "cell_type": "markdown",
      "source": [
        "."
      ],
      "metadata": {
        "id": "JDH2fMroYA5T"
      }
    },
    {
      "cell_type": "markdown",
      "source": [
        "."
      ],
      "metadata": {
        "id": "ClLH8WJMYBEC"
      }
    },
    {
      "cell_type": "code",
      "source": [
        "#@title 🚀 Open Google Drive in a New Tab (Attempt Auto-Open)\n",
        "#@markdown Click Here and then click on output link to open your Google Drive\n",
        "\n",
        "from IPython.display import display, HTML\n",
        "\n",
        "drive_url = \"https://drive.google.com/drive/u/0/my-drive\" # The standard Google Drive URL\n",
        "html_code = f'''\n",
        "<a href=\"{drive_url}\" target=\"_blank\">Click here to open your Google Drive (if it doesn't open automatically)</a>\n",
        "'''\n",
        "display(HTML(html_code))"
      ],
      "metadata": {
        "id": "HkTPU3_mWPQg",
        "cellView": "form"
      },
      "execution_count": null,
      "outputs": []
    }
  ]
}